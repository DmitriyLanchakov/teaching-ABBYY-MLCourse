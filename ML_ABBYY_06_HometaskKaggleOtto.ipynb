{
 "metadata": {
  "name": "",
  "signature": "sha256:3268dfbeb6cab0e014425e97d3686cc9a6aacde306cab5e4414ee71b8d9f0fba"
 },
 "nbformat": 3,
 "nbformat_minor": 0,
 "worksheets": [
  {
   "cells": [
    {
     "cell_type": "heading",
     "level": 1,
     "metadata": {},
     "source": [
      "Otto contest"
     ]
    },
    {
     "cell_type": "code",
     "collapsed": false,
     "input": [
      "root_folder = \"D:/special course/Contest  2 - Otto/\""
     ],
     "language": "python",
     "metadata": {},
     "outputs": [],
     "prompt_number": 1
    },
    {
     "cell_type": "markdown",
     "metadata": {},
     "source": [
      "\u0420\u0435\u0448\u0435\u043d\u0438\u0435 \u0441 \u0444\u043e\u0440\u0443\u043c\u0430:"
     ]
    },
    {
     "cell_type": "code",
     "collapsed": false,
     "input": [
      "import pandas as pd\n",
      "import numpy as np\n",
      "from sklearn import ensemble, feature_extraction, preprocessing, cross_validation, metrics\n",
      "\n",
      "# import data\n",
      "train = pd.read_csv(root_folder + 'train.csv')\n",
      "test = pd.read_csv(root_folder + 'test.csv')\n",
      "sample = pd.read_csv(root_folder + 'sampleSubmission.csv')\n",
      "\n",
      "# drop ids and get labels\n",
      "labels = train.target.values\n",
      "train = train.drop('id', axis=1)\n",
      "train = train.drop('target', axis=1)\n",
      "test = test.drop('id', axis=1)\n",
      "\n",
      "# encode labels \n",
      "lbl_enc = preprocessing.LabelEncoder()\n",
      "labels = lbl_enc.fit_transform(labels)"
     ],
     "language": "python",
     "metadata": {},
     "outputs": [],
     "prompt_number": 2
    },
    {
     "cell_type": "code",
     "collapsed": false,
     "input": [
      "print labels"
     ],
     "language": "python",
     "metadata": {},
     "outputs": [
      {
       "output_type": "stream",
       "stream": "stdout",
       "text": [
        "[0 0 0 ..., 8 8 8]\n"
       ]
      }
     ],
     "prompt_number": 3
    },
    {
     "cell_type": "code",
     "collapsed": false,
     "input": [
      "# transform counts to TFIDF features\n",
      "tfidf = feature_extraction.text.TfidfTransformer()\n",
      "train = tfidf.fit_transform(train).toarray()\n",
      "test = tfidf.transform(test).toarray()"
     ],
     "language": "python",
     "metadata": {},
     "outputs": []
    },
    {
     "cell_type": "code",
     "collapsed": false,
     "input": [
      "from sklearn import linear_model\n",
      "\n",
      "# validate a classifier\n",
      "clf = linear_model.LogisticRegression()\n",
      "print cross_validation.cross_val_score(clf, train, labels, scoring=\"log_loss\", cv=2)"
     ],
     "language": "python",
     "metadata": {},
     "outputs": [
      {
       "output_type": "stream",
       "stream": "stdout",
       "text": [
        "[-0.67642065 -0.6754653 ]\n"
       ]
      }
     ],
     "prompt_number": 3
    },
    {
     "cell_type": "code",
     "collapsed": false,
     "input": [
      "# train a classifier\n",
      "clf.fit(train, labels)\n",
      "\n",
      "# predict on test set\n",
      "preds = clf.predict_proba(test)\n",
      "\n",
      "# create submission file\n",
      "preds = pd.DataFrame(preds, index=sample.id.values, columns=sample.columns[1:])\n",
      "preds.to_csv(root_folder + 'ML_ABBYY_benchmark.csv', index_label='id')"
     ],
     "language": "python",
     "metadata": {},
     "outputs": [],
     "prompt_number": 4
    },
    {
     "cell_type": "heading",
     "level": 2,
     "metadata": {},
     "source": [
      "\u0417\u0430\u0434\u0430\u043d\u0438\u0435"
     ]
    },
    {
     "cell_type": "markdown",
     "metadata": {},
     "source": [
      "\u041f\u043e\u043f\u0440\u043e\u0431\u0443\u0439\u0442\u0435:\n",
      "1. \u0418\u0441\u043f\u043e\u043b\u044c\u0437\u043e\u0432\u0430\u0442\u044c \u0434\u0440\u0443\u0433\u0438\u0435 \u043a\u043b\u0430\u0441\u0441\u0438\u0444\u0438\u043a\u0430\u0442\u043e\u0440\u044b \u0438\u0437 sklearn\n",
      "1. \u0421\u0434\u0435\u043b\u0430\u0442\u044c \u043f\u0440\u0435\u043e\u0431\u0440\u0430\u0437\u043e\u0432\u0430\u043d\u0438\u0435 \u043f\u0440\u0438\u0437\u043d\u0430\u043a\u043e\u0432 \u0441 \u043f\u043e\u043c\u043e\u0449\u044c\u044e \u043c\u0435\u0442\u043e\u0434\u0430 \u0433\u043b\u0430\u0432\u043d\u044b\u0445 \u043a\u043e\u043c\u043f\u043e\u043d\u0435\u043d\u0442, \u043c\u0430\u0442\u0440\u0438\u0447\u043d\u044b\u0445 \u0440\u0430\u0437\u043b\u043e\u0436\u0435\u043d\u0438\u0439 \u0438\u043b\u0438 manifold learning \u0438 \u0441\u043c\u043e\u0442\u0440\u0435\u0442\u044c, \u0447\u0442\u043e \u043f\u0440\u043e\u0438\u0441\u0445\u043e\u0434\u0438\u0442 \u0441 \u043a\u0430\u0447\u0435\u0441\u0442\u0432\u043e\u043c\n",
      "1. \u0412\u0438\u0437\u0443\u0430\u043b\u0438\u0437\u0438\u0440\u043e\u0432\u0430\u0442\u044c \u0432\u044b\u0431\u043e\u0440\u043a\u0443 \u0442\u0430\u043a, \u043a\u0430\u043a \u0441\u0447\u0438\u0442\u0430\u0435\u0442\u0435 \u0446\u0435\u043b\u0435\u0441\u043e\u043e\u0431\u0440\u0430\u0437\u043d\u044b\u043c (\u043d\u0430 \u0432\u0430\u0448\u0435 \u0443\u0441\u043c\u043e\u0442\u0440\u0435\u043d\u0438\u0435 - \u043c\u043e\u0436\u043d\u043e \u043f\u0440\u043e\u0435\u043a\u0446\u0438\u0438 \u043d\u0430 \u0433\u043b\u0430\u0432\u043d\u044b\u0435 \u043a\u043e\u043c\u043f\u043e\u043d\u0435\u043d\u0442\u044b, \u043c\u043e\u0436\u043d\u043e \u0447\u0442\u043e-\u0442\u043e \u0431\u043e\u043b\u0435\u0435 \u0445\u0438\u0442\u0440\u043e\u0435)\n",
      "1. \u041f\u043e\u0441\u0442\u0440\u043e\u0438\u0442\u044c \u0433\u0438\u043f\u043e\u0442\u0435\u0437\u044b \u043e \u0442\u043e\u043c, \u043a\u0430\u043a \u0434\u043e\u0431\u0438\u0442\u044c\u0441\u044f \u043b\u0443\u0447\u0448\u0435\u0433\u043e \u043a\u0430\u0447\u0435\u0441\u0442\u0432\u0430 \u0438 \u043f\u043e\u043f\u0440\u043e\u0432\u0435\u0440\u044f\u0442\u044c \u0438\u0445 \u0434\u043e \u0441\u043b\u0435\u0434\u0443\u044e\u0449\u0435\u0439 \u0432\u0441\u0442\u0440\u0435\u0447\u0438"
     ]
    },
    {
     "cell_type": "code",
     "collapsed": false,
     "input": [],
     "language": "python",
     "metadata": {},
     "outputs": []
    }
   ],
   "metadata": {}
  }
 ]
}